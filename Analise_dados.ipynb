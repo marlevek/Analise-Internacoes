{
 "cells": [
  {
   "cell_type": "code",
   "execution_count": 1,
   "metadata": {},
   "outputs": [],
   "source": [
    "import pandas as pd\n",
    "import numpy as np\n",
    "import matplotlib.pyplot as plt"
   ]
  },
  {
   "cell_type": "code",
   "execution_count": 2,
   "metadata": {},
   "outputs": [],
   "source": [
    "# Atribuindo o banco de dados a uma variável\n",
    "dados = pd.read_excel('internaoporespecialidadefevereiro2022.xlsx')"
   ]
  },
  {
   "cell_type": "code",
   "execution_count": 3,
   "metadata": {},
   "outputs": [
    {
     "data": {
      "text/html": [
       "<div>\n",
       "<style scoped>\n",
       "    .dataframe tbody tr th:only-of-type {\n",
       "        vertical-align: middle;\n",
       "    }\n",
       "\n",
       "    .dataframe tbody tr th {\n",
       "        vertical-align: top;\n",
       "    }\n",
       "\n",
       "    .dataframe thead th {\n",
       "        text-align: right;\n",
       "    }\n",
       "</style>\n",
       "<table border=\"1\" class=\"dataframe\">\n",
       "  <thead>\n",
       "    <tr style=\"text-align: right;\">\n",
       "      <th></th>\n",
       "      <th>INTERNAMENTOS POR ESPECIALIDADES</th>\n",
       "      <th>AGOSTO</th>\n",
       "      <th>SETEMBRO</th>\n",
       "      <th>OUTUBRO</th>\n",
       "      <th>NOVEMBRO</th>\n",
       "      <th>DEZEMBRO</th>\n",
       "    </tr>\n",
       "  </thead>\n",
       "  <tbody>\n",
       "    <tr>\n",
       "      <th>0</th>\n",
       "      <td>ALERGIA E IMUNOLOGIA</td>\n",
       "      <td>2</td>\n",
       "      <td>0</td>\n",
       "      <td>0</td>\n",
       "      <td>1</td>\n",
       "      <td>0</td>\n",
       "    </tr>\n",
       "    <tr>\n",
       "      <th>1</th>\n",
       "      <td>BUCOMAXILOFACIAL</td>\n",
       "      <td>1</td>\n",
       "      <td>1</td>\n",
       "      <td>3</td>\n",
       "      <td>1</td>\n",
       "      <td>1</td>\n",
       "    </tr>\n",
       "    <tr>\n",
       "      <th>2</th>\n",
       "      <td>CARDIOLOGIA</td>\n",
       "      <td>22</td>\n",
       "      <td>27</td>\n",
       "      <td>25</td>\n",
       "      <td>36</td>\n",
       "      <td>26</td>\n",
       "    </tr>\n",
       "    <tr>\n",
       "      <th>3</th>\n",
       "      <td>CIRURGIA BARIÁTRICA</td>\n",
       "      <td>3</td>\n",
       "      <td>0</td>\n",
       "      <td>2</td>\n",
       "      <td>0</td>\n",
       "      <td>0</td>\n",
       "    </tr>\n",
       "    <tr>\n",
       "      <th>4</th>\n",
       "      <td>CIRURGIA DE CABEÇA E PESCOÇO</td>\n",
       "      <td>5</td>\n",
       "      <td>5</td>\n",
       "      <td>3</td>\n",
       "      <td>5</td>\n",
       "      <td>0</td>\n",
       "    </tr>\n",
       "    <tr>\n",
       "      <th>5</th>\n",
       "      <td>CIRURGIA GERAL</td>\n",
       "      <td>85</td>\n",
       "      <td>67</td>\n",
       "      <td>93</td>\n",
       "      <td>69</td>\n",
       "      <td>63</td>\n",
       "    </tr>\n",
       "    <tr>\n",
       "      <th>6</th>\n",
       "      <td>CIRURGIA PEDIATRICA</td>\n",
       "      <td>5</td>\n",
       "      <td>6</td>\n",
       "      <td>4</td>\n",
       "      <td>5</td>\n",
       "      <td>0</td>\n",
       "    </tr>\n",
       "    <tr>\n",
       "      <th>7</th>\n",
       "      <td>CIRURGIA VASCULAR</td>\n",
       "      <td>43</td>\n",
       "      <td>30</td>\n",
       "      <td>32</td>\n",
       "      <td>32</td>\n",
       "      <td>18</td>\n",
       "    </tr>\n",
       "    <tr>\n",
       "      <th>8</th>\n",
       "      <td>CLÍNICA GERAL</td>\n",
       "      <td>0</td>\n",
       "      <td>0</td>\n",
       "      <td>1</td>\n",
       "      <td>0</td>\n",
       "      <td>1</td>\n",
       "    </tr>\n",
       "    <tr>\n",
       "      <th>9</th>\n",
       "      <td>CLÍNICA MÉDICA</td>\n",
       "      <td>25</td>\n",
       "      <td>22</td>\n",
       "      <td>24</td>\n",
       "      <td>25</td>\n",
       "      <td>22</td>\n",
       "    </tr>\n",
       "  </tbody>\n",
       "</table>\n",
       "</div>"
      ],
      "text/plain": [
       "  INTERNAMENTOS POR ESPECIALIDADES  AGOSTO  SETEMBRO  OUTUBRO  NOVEMBRO  \\\n",
       "0             ALERGIA E IMUNOLOGIA       2         0        0         1   \n",
       "1                 BUCOMAXILOFACIAL       1         1        3         1   \n",
       "2                      CARDIOLOGIA      22        27       25        36   \n",
       "3              CIRURGIA BARIÁTRICA       3         0        2         0   \n",
       "4     CIRURGIA DE CABEÇA E PESCOÇO       5         5        3         5   \n",
       "5                   CIRURGIA GERAL      85        67       93        69   \n",
       "6              CIRURGIA PEDIATRICA       5         6        4         5   \n",
       "7                CIRURGIA VASCULAR      43        30       32        32   \n",
       "8                    CLÍNICA GERAL       0         0        1         0   \n",
       "9                   CLÍNICA MÉDICA      25        22       24        25   \n",
       "\n",
       "   DEZEMBRO  \n",
       "0         0  \n",
       "1         1  \n",
       "2        26  \n",
       "3         0  \n",
       "4         0  \n",
       "5        63  \n",
       "6         0  \n",
       "7        18  \n",
       "8         1  \n",
       "9        22  "
      ]
     },
     "execution_count": 3,
     "metadata": {},
     "output_type": "execute_result"
    }
   ],
   "source": [
    "# Mostrando os 10 primeiros registros\n",
    "dados.head(10)"
   ]
  },
  {
   "cell_type": "code",
   "execution_count": 4,
   "metadata": {},
   "outputs": [
    {
     "data": {
      "text/plain": [
       "(34, 6)"
      ]
     },
     "execution_count": 4,
     "metadata": {},
     "output_type": "execute_result"
    }
   ],
   "source": [
    "# quantas linhas e colunas tem os dados\n",
    "dados.shape"
   ]
  },
  {
   "cell_type": "code",
   "execution_count": 5,
   "metadata": {},
   "outputs": [
    {
     "data": {
      "text/html": [
       "<div>\n",
       "<style scoped>\n",
       "    .dataframe tbody tr th:only-of-type {\n",
       "        vertical-align: middle;\n",
       "    }\n",
       "\n",
       "    .dataframe tbody tr th {\n",
       "        vertical-align: top;\n",
       "    }\n",
       "\n",
       "    .dataframe thead th {\n",
       "        text-align: right;\n",
       "    }\n",
       "</style>\n",
       "<table border=\"1\" class=\"dataframe\">\n",
       "  <thead>\n",
       "    <tr style=\"text-align: right;\">\n",
       "      <th></th>\n",
       "      <th>AGOSTO</th>\n",
       "      <th>SETEMBRO</th>\n",
       "      <th>OUTUBRO</th>\n",
       "      <th>NOVEMBRO</th>\n",
       "      <th>DEZEMBRO</th>\n",
       "    </tr>\n",
       "  </thead>\n",
       "  <tbody>\n",
       "    <tr>\n",
       "      <th>count</th>\n",
       "      <td>34.000000</td>\n",
       "      <td>34.000000</td>\n",
       "      <td>34.000000</td>\n",
       "      <td>34.000000</td>\n",
       "      <td>34.000000</td>\n",
       "    </tr>\n",
       "    <tr>\n",
       "      <th>mean</th>\n",
       "      <td>51.000000</td>\n",
       "      <td>51.764706</td>\n",
       "      <td>50.705882</td>\n",
       "      <td>49.411765</td>\n",
       "      <td>38.764706</td>\n",
       "    </tr>\n",
       "    <tr>\n",
       "      <th>std</th>\n",
       "      <td>152.146261</td>\n",
       "      <td>155.589409</td>\n",
       "      <td>151.798816</td>\n",
       "      <td>146.683563</td>\n",
       "      <td>116.689710</td>\n",
       "    </tr>\n",
       "    <tr>\n",
       "      <th>min</th>\n",
       "      <td>0.000000</td>\n",
       "      <td>0.000000</td>\n",
       "      <td>0.000000</td>\n",
       "      <td>0.000000</td>\n",
       "      <td>0.000000</td>\n",
       "    </tr>\n",
       "    <tr>\n",
       "      <th>25%</th>\n",
       "      <td>3.000000</td>\n",
       "      <td>4.000000</td>\n",
       "      <td>4.000000</td>\n",
       "      <td>2.500000</td>\n",
       "      <td>1.000000</td>\n",
       "    </tr>\n",
       "    <tr>\n",
       "      <th>50%</th>\n",
       "      <td>10.000000</td>\n",
       "      <td>10.500000</td>\n",
       "      <td>10.000000</td>\n",
       "      <td>10.000000</td>\n",
       "      <td>8.500000</td>\n",
       "    </tr>\n",
       "    <tr>\n",
       "      <th>75%</th>\n",
       "      <td>35.000000</td>\n",
       "      <td>29.250000</td>\n",
       "      <td>31.000000</td>\n",
       "      <td>34.250000</td>\n",
       "      <td>21.750000</td>\n",
       "    </tr>\n",
       "    <tr>\n",
       "      <th>max</th>\n",
       "      <td>867.000000</td>\n",
       "      <td>880.000000</td>\n",
       "      <td>862.000000</td>\n",
       "      <td>840.000000</td>\n",
       "      <td>659.000000</td>\n",
       "    </tr>\n",
       "  </tbody>\n",
       "</table>\n",
       "</div>"
      ],
      "text/plain": [
       "           AGOSTO    SETEMBRO     OUTUBRO    NOVEMBRO    DEZEMBRO\n",
       "count   34.000000   34.000000   34.000000   34.000000   34.000000\n",
       "mean    51.000000   51.764706   50.705882   49.411765   38.764706\n",
       "std    152.146261  155.589409  151.798816  146.683563  116.689710\n",
       "min      0.000000    0.000000    0.000000    0.000000    0.000000\n",
       "25%      3.000000    4.000000    4.000000    2.500000    1.000000\n",
       "50%     10.000000   10.500000   10.000000   10.000000    8.500000\n",
       "75%     35.000000   29.250000   31.000000   34.250000   21.750000\n",
       "max    867.000000  880.000000  862.000000  840.000000  659.000000"
      ]
     },
     "execution_count": 5,
     "metadata": {},
     "output_type": "execute_result"
    }
   ],
   "source": [
    "# Breve descrição dos dados\n",
    "dados.describe()"
   ]
  },
  {
   "cell_type": "code",
   "execution_count": 6,
   "metadata": {},
   "outputs": [
    {
     "data": {
      "text/plain": [
       "3"
      ]
     },
     "execution_count": 6,
     "metadata": {},
     "output_type": "execute_result"
    }
   ],
   "source": [
    "# Total de internações Alergia e Imunologia\n",
    "dados.loc[0][1:].sum()"
   ]
  },
  {
   "cell_type": "code",
   "execution_count": 7,
   "metadata": {},
   "outputs": [
    {
     "data": {
      "text/plain": [
       "118"
      ]
     },
     "execution_count": 7,
     "metadata": {},
     "output_type": "execute_result"
    }
   ],
   "source": [
    "# Total internações Clínica Médica\n",
    "dados.loc[9][1:].sum()"
   ]
  },
  {
   "cell_type": "code",
   "execution_count": 8,
   "metadata": {},
   "outputs": [
    {
     "data": {
      "text/plain": [
       "160"
      ]
     },
     "execution_count": 8,
     "metadata": {},
     "output_type": "execute_result"
    }
   ],
   "source": [
    "internamentos_pediatria = dados.loc[27][1:].sum()\n",
    "internamentos_pediatria"
   ]
  },
  {
   "cell_type": "code",
   "execution_count": 11,
   "metadata": {},
   "outputs": [
    {
     "data": {
      "text/html": [
       "<div>\n",
       "<style scoped>\n",
       "    .dataframe tbody tr th:only-of-type {\n",
       "        vertical-align: middle;\n",
       "    }\n",
       "\n",
       "    .dataframe tbody tr th {\n",
       "        vertical-align: top;\n",
       "    }\n",
       "\n",
       "    .dataframe thead th {\n",
       "        text-align: right;\n",
       "    }\n",
       "</style>\n",
       "<table border=\"1\" class=\"dataframe\">\n",
       "  <thead>\n",
       "    <tr style=\"text-align: right;\">\n",
       "      <th></th>\n",
       "      <th>INTERNAMENTOS POR ESPECIALIDADES</th>\n",
       "      <th>AGOSTO</th>\n",
       "      <th>SETEMBRO</th>\n",
       "      <th>OUTUBRO</th>\n",
       "      <th>NOVEMBRO</th>\n",
       "      <th>DEZEMBRO</th>\n",
       "      <th>Total</th>\n",
       "    </tr>\n",
       "  </thead>\n",
       "  <tbody>\n",
       "    <tr>\n",
       "      <th>0</th>\n",
       "      <td>ALERGIA E IMUNOLOGIA</td>\n",
       "      <td>2</td>\n",
       "      <td>0</td>\n",
       "      <td>0</td>\n",
       "      <td>1</td>\n",
       "      <td>0</td>\n",
       "      <td>3</td>\n",
       "    </tr>\n",
       "    <tr>\n",
       "      <th>1</th>\n",
       "      <td>BUCOMAXILOFACIAL</td>\n",
       "      <td>1</td>\n",
       "      <td>1</td>\n",
       "      <td>3</td>\n",
       "      <td>1</td>\n",
       "      <td>1</td>\n",
       "      <td>7</td>\n",
       "    </tr>\n",
       "    <tr>\n",
       "      <th>2</th>\n",
       "      <td>CARDIOLOGIA</td>\n",
       "      <td>22</td>\n",
       "      <td>27</td>\n",
       "      <td>25</td>\n",
       "      <td>36</td>\n",
       "      <td>26</td>\n",
       "      <td>136</td>\n",
       "    </tr>\n",
       "    <tr>\n",
       "      <th>3</th>\n",
       "      <td>CIRURGIA BARIÁTRICA</td>\n",
       "      <td>3</td>\n",
       "      <td>0</td>\n",
       "      <td>2</td>\n",
       "      <td>0</td>\n",
       "      <td>0</td>\n",
       "      <td>5</td>\n",
       "    </tr>\n",
       "    <tr>\n",
       "      <th>4</th>\n",
       "      <td>CIRURGIA DE CABEÇA E PESCOÇO</td>\n",
       "      <td>5</td>\n",
       "      <td>5</td>\n",
       "      <td>3</td>\n",
       "      <td>5</td>\n",
       "      <td>0</td>\n",
       "      <td>18</td>\n",
       "    </tr>\n",
       "    <tr>\n",
       "      <th>5</th>\n",
       "      <td>CIRURGIA GERAL</td>\n",
       "      <td>85</td>\n",
       "      <td>67</td>\n",
       "      <td>93</td>\n",
       "      <td>69</td>\n",
       "      <td>63</td>\n",
       "      <td>377</td>\n",
       "    </tr>\n",
       "    <tr>\n",
       "      <th>6</th>\n",
       "      <td>CIRURGIA PEDIATRICA</td>\n",
       "      <td>5</td>\n",
       "      <td>6</td>\n",
       "      <td>4</td>\n",
       "      <td>5</td>\n",
       "      <td>0</td>\n",
       "      <td>20</td>\n",
       "    </tr>\n",
       "    <tr>\n",
       "      <th>7</th>\n",
       "      <td>CIRURGIA VASCULAR</td>\n",
       "      <td>43</td>\n",
       "      <td>30</td>\n",
       "      <td>32</td>\n",
       "      <td>32</td>\n",
       "      <td>18</td>\n",
       "      <td>155</td>\n",
       "    </tr>\n",
       "    <tr>\n",
       "      <th>8</th>\n",
       "      <td>CLÍNICA GERAL</td>\n",
       "      <td>0</td>\n",
       "      <td>0</td>\n",
       "      <td>1</td>\n",
       "      <td>0</td>\n",
       "      <td>1</td>\n",
       "      <td>2</td>\n",
       "    </tr>\n",
       "    <tr>\n",
       "      <th>9</th>\n",
       "      <td>CLÍNICA MÉDICA</td>\n",
       "      <td>25</td>\n",
       "      <td>22</td>\n",
       "      <td>24</td>\n",
       "      <td>25</td>\n",
       "      <td>22</td>\n",
       "      <td>118</td>\n",
       "    </tr>\n",
       "    <tr>\n",
       "      <th>10</th>\n",
       "      <td>DERMATOLOGIA</td>\n",
       "      <td>2</td>\n",
       "      <td>2</td>\n",
       "      <td>0</td>\n",
       "      <td>1</td>\n",
       "      <td>0</td>\n",
       "      <td>5</td>\n",
       "    </tr>\n",
       "    <tr>\n",
       "      <th>11</th>\n",
       "      <td>DOENÇAS INFECTO PARASITARIAS</td>\n",
       "      <td>12</td>\n",
       "      <td>9</td>\n",
       "      <td>10</td>\n",
       "      <td>12</td>\n",
       "      <td>9</td>\n",
       "      <td>52</td>\n",
       "    </tr>\n",
       "    <tr>\n",
       "      <th>12</th>\n",
       "      <td>ENDOCRINOLOGIA E METABOLOGIA</td>\n",
       "      <td>2</td>\n",
       "      <td>1</td>\n",
       "      <td>1</td>\n",
       "      <td>2</td>\n",
       "      <td>1</td>\n",
       "      <td>7</td>\n",
       "    </tr>\n",
       "    <tr>\n",
       "      <th>13</th>\n",
       "      <td>GASTROENTEROLOGIA</td>\n",
       "      <td>12</td>\n",
       "      <td>13</td>\n",
       "      <td>17</td>\n",
       "      <td>11</td>\n",
       "      <td>11</td>\n",
       "      <td>64</td>\n",
       "    </tr>\n",
       "    <tr>\n",
       "      <th>14</th>\n",
       "      <td>GERIATRIA</td>\n",
       "      <td>6</td>\n",
       "      <td>3</td>\n",
       "      <td>4</td>\n",
       "      <td>8</td>\n",
       "      <td>5</td>\n",
       "      <td>26</td>\n",
       "    </tr>\n",
       "    <tr>\n",
       "      <th>15</th>\n",
       "      <td>GINECOLOGIA</td>\n",
       "      <td>40</td>\n",
       "      <td>41</td>\n",
       "      <td>39</td>\n",
       "      <td>44</td>\n",
       "      <td>21</td>\n",
       "      <td>185</td>\n",
       "    </tr>\n",
       "    <tr>\n",
       "      <th>16</th>\n",
       "      <td>HEMATOLOGIA</td>\n",
       "      <td>14</td>\n",
       "      <td>20</td>\n",
       "      <td>15</td>\n",
       "      <td>19</td>\n",
       "      <td>21</td>\n",
       "      <td>89</td>\n",
       "    </tr>\n",
       "    <tr>\n",
       "      <th>17</th>\n",
       "      <td>INFECTOLOGIA</td>\n",
       "      <td>1</td>\n",
       "      <td>0</td>\n",
       "      <td>0</td>\n",
       "      <td>0</td>\n",
       "      <td>2</td>\n",
       "      <td>3</td>\n",
       "    </tr>\n",
       "    <tr>\n",
       "      <th>18</th>\n",
       "      <td>NEFROLOGIA</td>\n",
       "      <td>44</td>\n",
       "      <td>34</td>\n",
       "      <td>46</td>\n",
       "      <td>44</td>\n",
       "      <td>35</td>\n",
       "      <td>203</td>\n",
       "    </tr>\n",
       "    <tr>\n",
       "      <th>19</th>\n",
       "      <td>NEONATOLOGIA</td>\n",
       "      <td>87</td>\n",
       "      <td>112</td>\n",
       "      <td>92</td>\n",
       "      <td>94</td>\n",
       "      <td>94</td>\n",
       "      <td>479</td>\n",
       "    </tr>\n",
       "    <tr>\n",
       "      <th>20</th>\n",
       "      <td>NEUROCIRURGIA</td>\n",
       "      <td>2</td>\n",
       "      <td>4</td>\n",
       "      <td>8</td>\n",
       "      <td>6</td>\n",
       "      <td>2</td>\n",
       "      <td>22</td>\n",
       "    </tr>\n",
       "    <tr>\n",
       "      <th>21</th>\n",
       "      <td>NEUROLOGIA</td>\n",
       "      <td>17</td>\n",
       "      <td>12</td>\n",
       "      <td>11</td>\n",
       "      <td>9</td>\n",
       "      <td>15</td>\n",
       "      <td>64</td>\n",
       "    </tr>\n",
       "    <tr>\n",
       "      <th>22</th>\n",
       "      <td>OBSTETRÍCIA</td>\n",
       "      <td>271</td>\n",
       "      <td>296</td>\n",
       "      <td>277</td>\n",
       "      <td>247</td>\n",
       "      <td>218</td>\n",
       "      <td>1309</td>\n",
       "    </tr>\n",
       "    <tr>\n",
       "      <th>23</th>\n",
       "      <td>OFTALMOLOGIA</td>\n",
       "      <td>1</td>\n",
       "      <td>6</td>\n",
       "      <td>5</td>\n",
       "      <td>6</td>\n",
       "      <td>1</td>\n",
       "      <td>19</td>\n",
       "    </tr>\n",
       "    <tr>\n",
       "      <th>24</th>\n",
       "      <td>ONCOLOGIA</td>\n",
       "      <td>4</td>\n",
       "      <td>12</td>\n",
       "      <td>6</td>\n",
       "      <td>12</td>\n",
       "      <td>12</td>\n",
       "      <td>46</td>\n",
       "    </tr>\n",
       "    <tr>\n",
       "      <th>25</th>\n",
       "      <td>ORTOPEDIA E TRAUMATOLOGIA</td>\n",
       "      <td>27</td>\n",
       "      <td>25</td>\n",
       "      <td>17</td>\n",
       "      <td>21</td>\n",
       "      <td>10</td>\n",
       "      <td>100</td>\n",
       "    </tr>\n",
       "    <tr>\n",
       "      <th>26</th>\n",
       "      <td>OTORRINOLARINGOLOGIA</td>\n",
       "      <td>35</td>\n",
       "      <td>26</td>\n",
       "      <td>33</td>\n",
       "      <td>35</td>\n",
       "      <td>0</td>\n",
       "      <td>129</td>\n",
       "    </tr>\n",
       "    <tr>\n",
       "      <th>27</th>\n",
       "      <td>PEDIATRIA</td>\n",
       "      <td>35</td>\n",
       "      <td>39</td>\n",
       "      <td>28</td>\n",
       "      <td>30</td>\n",
       "      <td>28</td>\n",
       "      <td>160</td>\n",
       "    </tr>\n",
       "    <tr>\n",
       "      <th>28</th>\n",
       "      <td>PNEUMOLOGIA</td>\n",
       "      <td>3</td>\n",
       "      <td>6</td>\n",
       "      <td>4</td>\n",
       "      <td>4</td>\n",
       "      <td>7</td>\n",
       "      <td>24</td>\n",
       "    </tr>\n",
       "    <tr>\n",
       "      <th>29</th>\n",
       "      <td>PSIQUIATRIA</td>\n",
       "      <td>4</td>\n",
       "      <td>4</td>\n",
       "      <td>4</td>\n",
       "      <td>2</td>\n",
       "      <td>2</td>\n",
       "      <td>16</td>\n",
       "    </tr>\n",
       "    <tr>\n",
       "      <th>30</th>\n",
       "      <td>REUMATOLOGIA</td>\n",
       "      <td>8</td>\n",
       "      <td>9</td>\n",
       "      <td>10</td>\n",
       "      <td>9</td>\n",
       "      <td>8</td>\n",
       "      <td>44</td>\n",
       "    </tr>\n",
       "    <tr>\n",
       "      <th>31</th>\n",
       "      <td>TRANSPLANTE RENAL</td>\n",
       "      <td>8</td>\n",
       "      <td>4</td>\n",
       "      <td>5</td>\n",
       "      <td>2</td>\n",
       "      <td>1</td>\n",
       "      <td>20</td>\n",
       "    </tr>\n",
       "    <tr>\n",
       "      <th>32</th>\n",
       "      <td>UROLOGIA</td>\n",
       "      <td>41</td>\n",
       "      <td>44</td>\n",
       "      <td>43</td>\n",
       "      <td>48</td>\n",
       "      <td>25</td>\n",
       "      <td>201</td>\n",
       "    </tr>\n",
       "    <tr>\n",
       "      <th>33</th>\n",
       "      <td>TOTAL</td>\n",
       "      <td>867</td>\n",
       "      <td>880</td>\n",
       "      <td>862</td>\n",
       "      <td>840</td>\n",
       "      <td>659</td>\n",
       "      <td>4108</td>\n",
       "    </tr>\n",
       "  </tbody>\n",
       "</table>\n",
       "</div>"
      ],
      "text/plain": [
       "   INTERNAMENTOS POR ESPECIALIDADES  AGOSTO  SETEMBRO  OUTUBRO  NOVEMBRO  \\\n",
       "0              ALERGIA E IMUNOLOGIA       2         0        0         1   \n",
       "1                  BUCOMAXILOFACIAL       1         1        3         1   \n",
       "2                       CARDIOLOGIA      22        27       25        36   \n",
       "3               CIRURGIA BARIÁTRICA       3         0        2         0   \n",
       "4      CIRURGIA DE CABEÇA E PESCOÇO       5         5        3         5   \n",
       "5                    CIRURGIA GERAL      85        67       93        69   \n",
       "6               CIRURGIA PEDIATRICA       5         6        4         5   \n",
       "7                 CIRURGIA VASCULAR      43        30       32        32   \n",
       "8                     CLÍNICA GERAL       0         0        1         0   \n",
       "9                    CLÍNICA MÉDICA      25        22       24        25   \n",
       "10                     DERMATOLOGIA       2         2        0         1   \n",
       "11     DOENÇAS INFECTO PARASITARIAS      12         9       10        12   \n",
       "12     ENDOCRINOLOGIA E METABOLOGIA       2         1        1         2   \n",
       "13                GASTROENTEROLOGIA      12        13       17        11   \n",
       "14                        GERIATRIA       6         3        4         8   \n",
       "15                      GINECOLOGIA      40        41       39        44   \n",
       "16                      HEMATOLOGIA      14        20       15        19   \n",
       "17                     INFECTOLOGIA       1         0        0         0   \n",
       "18                       NEFROLOGIA      44        34       46        44   \n",
       "19                     NEONATOLOGIA      87       112       92        94   \n",
       "20                    NEUROCIRURGIA       2         4        8         6   \n",
       "21                       NEUROLOGIA      17        12       11         9   \n",
       "22                      OBSTETRÍCIA     271       296      277       247   \n",
       "23                     OFTALMOLOGIA       1         6        5         6   \n",
       "24                        ONCOLOGIA       4        12        6        12   \n",
       "25        ORTOPEDIA E TRAUMATOLOGIA      27        25       17        21   \n",
       "26             OTORRINOLARINGOLOGIA      35        26       33        35   \n",
       "27                        PEDIATRIA      35        39       28        30   \n",
       "28                      PNEUMOLOGIA       3         6        4         4   \n",
       "29                      PSIQUIATRIA       4         4        4         2   \n",
       "30                     REUMATOLOGIA       8         9       10         9   \n",
       "31                TRANSPLANTE RENAL       8         4        5         2   \n",
       "32                         UROLOGIA      41        44       43        48   \n",
       "33                            TOTAL     867       880      862       840   \n",
       "\n",
       "    DEZEMBRO  Total  \n",
       "0          0      3  \n",
       "1          1      7  \n",
       "2         26    136  \n",
       "3          0      5  \n",
       "4          0     18  \n",
       "5         63    377  \n",
       "6          0     20  \n",
       "7         18    155  \n",
       "8          1      2  \n",
       "9         22    118  \n",
       "10         0      5  \n",
       "11         9     52  \n",
       "12         1      7  \n",
       "13        11     64  \n",
       "14         5     26  \n",
       "15        21    185  \n",
       "16        21     89  \n",
       "17         2      3  \n",
       "18        35    203  \n",
       "19        94    479  \n",
       "20         2     22  \n",
       "21        15     64  \n",
       "22       218   1309  \n",
       "23         1     19  \n",
       "24        12     46  \n",
       "25        10    100  \n",
       "26         0    129  \n",
       "27        28    160  \n",
       "28         7     24  \n",
       "29         2     16  \n",
       "30         8     44  \n",
       "31         1     20  \n",
       "32        25    201  \n",
       "33       659   4108  "
      ]
     },
     "execution_count": 11,
     "metadata": {},
     "output_type": "execute_result"
    }
   ],
   "source": [
    "# Criando a coluna Total\n",
    "dados['Total'] = dados['AGOSTO'] + dados['SETEMBRO'] + dados['OUTUBRO'] + dados['NOVEMBRO']+ dados['DEZEMBRO']\n",
    "dados"
   ]
  },
  {
   "cell_type": "markdown",
   "metadata": {},
   "source": [
    "PERGUNTA: QUAL FOI A ESPECIALIDADE COM MAIOR NÚMERO DE INTERNAÇÕES"
   ]
  },
  {
   "cell_type": "code",
   "execution_count": 17,
   "metadata": {},
   "outputs": [
    {
     "data": {
      "text/plain": [
       "22    1309\n",
       "19     479\n",
       "5      377\n",
       "18     203\n",
       "32     201\n",
       "Name: Total, dtype: int64"
      ]
     },
     "execution_count": 17,
     "metadata": {},
     "output_type": "execute_result"
    }
   ],
   "source": [
    "# MOSTRANDO OS TOP 5 EM INTERNAÇÕES\n",
    "top5 = dados['Total'][0:33].sort_values(ascending=False).head()\n",
    "top5"
   ]
  },
  {
   "cell_type": "code",
   "execution_count": 28,
   "metadata": {},
   "outputs": [
    {
     "data": {
      "text/plain": [
       "INTERNAMENTOS POR ESPECIALIDADES    OBSTETRÍCIA\n",
       "AGOSTO                                      271\n",
       "SETEMBRO                                    296\n",
       "OUTUBRO                                     277\n",
       "NOVEMBRO                                    247\n",
       "DEZEMBRO                                    218\n",
       "Total                                      1309\n",
       "Name: 22, dtype: object"
      ]
     },
     "execution_count": 28,
     "metadata": {},
     "output_type": "execute_result"
    }
   ],
   "source": [
    "# Qual é a especialidade com índice 22, que é a que maior número de internações teve nos últimos 5 meses de 2021?\n",
    "dados.loc[22]"
   ]
  },
  {
   "cell_type": "code",
   "execution_count": 33,
   "metadata": {},
   "outputs": [
    {
     "name": "stdout",
     "output_type": "stream",
     "text": [
      "A Especialidade médica com o maior número de internações nos últimos 5 meses de 2021 foi OBSTETRÍCIA\n"
     ]
    }
   ],
   "source": [
    "print(f'A Especialidade médica com o maior número de internações nos últimos 5 meses de 2021 foi {dados[\"INTERNAMENTOS POR ESPECIALIDADES\"][22]}')"
   ]
  },
  {
   "cell_type": "markdown",
   "metadata": {},
   "source": [
    "### DADOS PARA CRIAR GRÁFICO"
   ]
  },
  {
   "cell_type": "code",
   "execution_count": 53,
   "metadata": {},
   "outputs": [
    {
     "data": {
      "text/plain": [
       "1309"
      ]
     },
     "execution_count": 53,
     "metadata": {},
     "output_type": "execute_result"
    }
   ],
   "source": [
    "intern_obstetrícia = dados.loc[22]['Total']\n",
    "intern_obstetrícia"
   ]
  },
  {
   "cell_type": "code",
   "execution_count": 54,
   "metadata": {},
   "outputs": [
    {
     "data": {
      "text/plain": [
       "479"
      ]
     },
     "execution_count": 54,
     "metadata": {},
     "output_type": "execute_result"
    }
   ],
   "source": [
    "# Internamento NEONATOLOGIA\n",
    "intern_neonatologia = dados.loc[19]['Total']\n",
    "intern_neonatologia"
   ]
  },
  {
   "cell_type": "code",
   "execution_count": 55,
   "metadata": {},
   "outputs": [
    {
     "data": {
      "text/plain": [
       "377"
      ]
     },
     "execution_count": 55,
     "metadata": {},
     "output_type": "execute_result"
    }
   ],
   "source": [
    "# Internamento CIRURGIA GERAL\n",
    "intern_cirurgGeral = dados.loc[5]['Total']\n",
    "intern_cirurgGeral"
   ]
  },
  {
   "cell_type": "code",
   "execution_count": 59,
   "metadata": {},
   "outputs": [
    {
     "data": {
      "text/plain": [
       "203"
      ]
     },
     "execution_count": 59,
     "metadata": {},
     "output_type": "execute_result"
    }
   ],
   "source": [
    "# Internamento NEFROLOGIA\n",
    "intern_nefrologia = dados.loc[18]['Total']\n",
    "intern_nefrologia"
   ]
  },
  {
   "cell_type": "code",
   "execution_count": 60,
   "metadata": {},
   "outputs": [
    {
     "data": {
      "text/plain": [
       "201"
      ]
     },
     "execution_count": 60,
     "metadata": {},
     "output_type": "execute_result"
    }
   ],
   "source": [
    "# Internamento UROLOGIA\n",
    "intern_urologia = dados.loc[32]['Total']\n",
    "intern_urologia"
   ]
  },
  {
   "cell_type": "code",
   "execution_count": 90,
   "metadata": {},
   "outputs": [
    {
     "data": {
      "image/png": "[encoded data removed]",
      "text/plain": [
       "<Figure size 432x288 with 1 Axes>"
      ]
     },
     "metadata": {
      "needs_background": "light"
     },
     "output_type": "display_data"
    }
   ],
   "source": [
    "# CRIANDO GRÁFICO\n",
    "\n",
    "especialidades = [dados[\"INTERNAMENTOS POR ESPECIALIDADES\"][22], dados[\"INTERNAMENTOS POR ESPECIALIDADES\"][19], dados[\"INTERNAMENTOS POR ESPECIALIDADES\"][5], dados[\"INTERNAMENTOS POR ESPECIALIDADES\"][18], dados[\"INTERNAMENTOS POR ESPECIALIDADES\"][32]]\n",
    "plt.plot()\n",
    "x = (intern_obstetrícia, intern_neonatologia, intern_cirurgGeral, intern_nefrologia, intern_urologia)\n",
    "y = especialidades\n",
    "plt.title('TOP 5 INTERNAÇÕES POR ESPECIALIDADE')\n",
    "plt.scatter(x, y, s=100)\n",
    "plt.show()"
   ]
  }
 ],
 "metadata": {
  "interpreter": {
   "hash": "d9418d6f7a580fa2f4c5dedbb907f987bc07cf9e624d3f8228ee5c26d55a5eb5"
  },
  "kernelspec": {
   "display_name": "Python 3.10.1 64-bit",
   "language": "python",
   "name": "python3"
  },
  "language_info": {
   "codemirror_mode": {
    "name": "ipython",
    "version": 3
   },
   "file_extension": ".py",
   "mimetype": "text/x-python",
   "name": "python",
   "nbconvert_exporter": "python",
   "pygments_lexer": "ipython3",
   "version": "3.10.1"
  },
  "orig_nbformat": 4
 },
 "nbformat": 4,
 "nbformat_minor": 2
}
